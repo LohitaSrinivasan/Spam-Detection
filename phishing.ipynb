{
 "cells": [
  {
   "cell_type": "code",
   "execution_count": 1,
   "id": "61e86f7a",
   "metadata": {},
   "outputs": [],
   "source": [
    "import pandas as pd"
   ]
  },
  {
   "cell_type": "code",
   "execution_count": 34,
   "id": "c5d2c7c8",
   "metadata": {},
   "outputs": [],
   "source": [
    "df = pd.read_csv(r\"C:\\Users\\lohit\\Downloads\\emails.csv\")"
   ]
  },
  {
   "cell_type": "code",
   "execution_count": 35,
   "id": "80cc7f46",
   "metadata": {},
   "outputs": [
    {
     "data": {
      "text/html": [
       "<div>\n",
       "<style scoped>\n",
       "    .dataframe tbody tr th:only-of-type {\n",
       "        vertical-align: middle;\n",
       "    }\n",
       "\n",
       "    .dataframe tbody tr th {\n",
       "        vertical-align: top;\n",
       "    }\n",
       "\n",
       "    .dataframe thead th {\n",
       "        text-align: right;\n",
       "    }\n",
       "</style>\n",
       "<table border=\"1\" class=\"dataframe\">\n",
       "  <thead>\n",
       "    <tr style=\"text-align: right;\">\n",
       "      <th></th>\n",
       "      <th>message</th>\n",
       "      <th>label</th>\n",
       "    </tr>\n",
       "  </thead>\n",
       "  <tbody>\n",
       "    <tr>\n",
       "      <th>0</th>\n",
       "      <td>naturally irresistible your corporate identit...</td>\n",
       "      <td>1</td>\n",
       "    </tr>\n",
       "    <tr>\n",
       "      <th>1</th>\n",
       "      <td>the stock trading gunslinger  fanny is merril...</td>\n",
       "      <td>1</td>\n",
       "    </tr>\n",
       "    <tr>\n",
       "      <th>2</th>\n",
       "      <td>unbelievable new homes made easy  im wanting ...</td>\n",
       "      <td>1</td>\n",
       "    </tr>\n",
       "    <tr>\n",
       "      <th>3</th>\n",
       "      <td>4 color printing special  request additional ...</td>\n",
       "      <td>1</td>\n",
       "    </tr>\n",
       "    <tr>\n",
       "      <th>4</th>\n",
       "      <td>do not have money , get software cds from her...</td>\n",
       "      <td>1</td>\n",
       "    </tr>\n",
       "  </tbody>\n",
       "</table>\n",
       "</div>"
      ],
      "text/plain": [
       "                                             message  label\n",
       "0   naturally irresistible your corporate identit...      1\n",
       "1   the stock trading gunslinger  fanny is merril...      1\n",
       "2   unbelievable new homes made easy  im wanting ...      1\n",
       "3   4 color printing special  request additional ...      1\n",
       "4   do not have money , get software cds from her...      1"
      ]
     },
     "execution_count": 35,
     "metadata": {},
     "output_type": "execute_result"
    }
   ],
   "source": [
    "df.head()"
   ]
  },
  {
   "cell_type": "code",
   "execution_count": 36,
   "id": "7af018b1",
   "metadata": {},
   "outputs": [],
   "source": [
    "#Importing the libraries\n",
    "import pandas as pd\n",
    "import numpy as np\n",
    "import matplotlib.pyplot as plt\n",
    "import seaborn as sns\n",
    "from sklearn.feature_extraction.text import TfidfVectorizer\n",
    "from sklearn.naive_bayes import MultinomialNB\n",
    "from sklearn.model_selection import train_test_split\n",
    "from sklearn.metrics import accuracy_score, confusion_matrix, classification_report\n",
    "from sklearn.svm import SVC"
   ]
  },
  {
   "cell_type": "code",
   "execution_count": 37,
   "id": "c331e3be",
   "metadata": {},
   "outputs": [
    {
     "name": "stderr",
     "output_type": "stream",
     "text": [
      "<ipython-input-37-40955ee1a935>:2: FutureWarning: The default value of regex will change from True to False in a future version.\n",
      "  df['message'] = df['message'].str.replace(r'^.+@[^\\.].*\\.[a-z]{2,}$','emailaddress')\n",
      "<ipython-input-37-40955ee1a935>:5: FutureWarning: The default value of regex will change from True to False in a future version.\n",
      "  df['message'] = df['message'].str.replace(r'^http\\://[a-zA-Z0-9\\-\\.]+\\.[a-zA-Z]{2,3}(/\\S*)?$','webaddress')\n",
      "<ipython-input-37-40955ee1a935>:8: FutureWarning: The default value of regex will change from True to False in a future version.\n",
      "  df['message'] = df['message'].str.replace(r'£|\\$', 'dollers')\n",
      "<ipython-input-37-40955ee1a935>:11: FutureWarning: The default value of regex will change from True to False in a future version.\n",
      "  df['message'] = df['message'].str.replace(r'^\\(?[\\d]{3}\\)?[\\s-]?[\\d]{3}[\\s-]?[\\d]{4}$','phonenumber')\n",
      "<ipython-input-37-40955ee1a935>:14: FutureWarning: The default value of regex will change from True to False in a future version.\n",
      "  df['message'] = df['message'].str.replace(r'\\d+(\\.\\d+)?', 'numbr')\n",
      "<ipython-input-37-40955ee1a935>:16: FutureWarning: The default value of regex will change from True to False in a future version.\n",
      "  df['message'] = df['message'].str.replace(r'[^\\w\\d\\s]', ' ')\n",
      "<ipython-input-37-40955ee1a935>:19: FutureWarning: The default value of regex will change from True to False in a future version.\n",
      "  df['message'] = df['message'].str.replace(r'\\s+', ' ')\n",
      "<ipython-input-37-40955ee1a935>:22: FutureWarning: The default value of regex will change from True to False in a future version.\n",
      "  df['message'] = df['message'].str.replace(r'^\\s+|\\s+?$', '')\n"
     ]
    }
   ],
   "source": [
    "# Replace email addresses with 'email'\n",
    "df['message'] = df['message'].str.replace(r'^.+@[^\\.].*\\.[a-z]{2,}$','emailaddress')\n",
    "\n",
    "# Replace URLs with 'webaddress'\n",
    "df['message'] = df['message'].str.replace(r'^http\\://[a-zA-Z0-9\\-\\.]+\\.[a-zA-Z]{2,3}(/\\S*)?$','webaddress')\n",
    "\n",
    "# Replace currency symbols with 'moneysymb' (£ can by typed with ALT key + 156)\n",
    "df['message'] = df['message'].str.replace(r'£|\\$', 'dollers')\n",
    "    \n",
    "# Replace 10 digit phone numbers (formats include paranthesis, spaces, no spaces, dashes) with 'phonenumber'\n",
    "df['message'] = df['message'].str.replace(r'^\\(?[\\d]{3}\\)?[\\s-]?[\\d]{3}[\\s-]?[\\d]{4}$','phonenumber')\n",
    "   \n",
    "# Replace numeric characters with 'numbr'\n",
    "df['message'] = df['message'].str.replace(r'\\d+(\\.\\d+)?', 'numbr')\n",
    "# Remove punctuation\n",
    "df['message'] = df['message'].str.replace(r'[^\\w\\d\\s]', ' ')\n",
    "\n",
    "# Replace whitespace between terms with a single space\n",
    "df['message'] = df['message'].str.replace(r'\\s+', ' ')\n",
    "\n",
    "# Remove leading and trailing whitespace\n",
    "df['message'] = df['message'].str.replace(r'^\\s+|\\s+?$', '')\n",
    "\n",
    "#Removing the stopwords\n",
    "import string\n",
    "import nltk\n",
    "from nltk.corpus import stopwords\n",
    "\n",
    "stop_words = set(stopwords.words('english') + ['u', 'ü', 'ur', '4', '2', 'im', 'dont', 'doin', 'ure'])\n",
    "\n",
    "df['message'] = df['message'].apply(lambda x: \" \".join(term for term in x.split() if term not in stop_words))"
   ]
  },
  {
   "cell_type": "code",
   "execution_count": 38,
   "id": "c05c0783",
   "metadata": {},
   "outputs": [
    {
     "name": "stdout",
     "output_type": "stream",
     "text": [
      "Final score = >  0.9900606469002695\n"
     ]
    },
    {
     "data": {
      "text/plain": [
       "array([1, 0, 1, ..., 1, 0, 0], dtype=int64)"
      ]
     },
     "execution_count": 38,
     "metadata": {},
     "output_type": "execute_result"
    }
   ],
   "source": [
    "# 1. Convert text into vectors using TF-IDF\n",
    "# 2. Instantiate MultinomialNB classifier\n",
    "# 3. Split feature and label\n",
    "\n",
    "\n",
    "tf_vec = TfidfVectorizer()\n",
    "\n",
    "#naive = MultinomialNB()\n",
    "\n",
    "SVM = SVC(C=1.0, kernel='linear', degree=3 , gamma='auto')\n",
    "\n",
    "features = tf_vec.fit_transform(df['message'])\n",
    "\n",
    "X = features\n",
    "y = df['label']\n",
    "# Train and predict\n",
    "X_train,x_test,Y_train,y_test = train_test_split(X,y,random_state=42)         #test_size=0.20 random_state=42 test_size=0.15\n",
    "\n",
    "#naive.fit(X_train,Y_train)\n",
    "#y_pred= naive.predict(x_test)\n",
    "\n",
    "SVM.fit(X_train,Y_train)\n",
    "y_pred = SVM.predict(x_test)\n",
    "\n",
    "print ('Final score = > ', accuracy_score(y_test,y_pred))\n",
    "# Final_score = >  0.9875690607734806\n",
    "y_pred"
   ]
  },
  {
   "cell_type": "code",
   "execution_count": 39,
   "id": "147dd059",
   "metadata": {},
   "outputs": [],
   "source": [
    "df1 = pd.read_excel(r\"C:\\Users\\lohit\\Downloads\\CCAC_data (1).xlsx\")"
   ]
  },
  {
   "cell_type": "code",
   "execution_count": 40,
   "id": "be97a07a",
   "metadata": {},
   "outputs": [
    {
     "data": {
      "text/plain": [
       "Index(['Id', 'EmailTo', 'CC', 'SenderName', 'SenderEmailAddress', 'Subject',\n",
       "       'Body'],\n",
       "      dtype='object')"
      ]
     },
     "execution_count": 40,
     "metadata": {},
     "output_type": "execute_result"
    }
   ],
   "source": [
    "df1.columns"
   ]
  },
  {
   "cell_type": "code",
   "execution_count": 41,
   "id": "39e5707c",
   "metadata": {},
   "outputs": [
    {
     "name": "stderr",
     "output_type": "stream",
     "text": [
      "<ipython-input-41-172483833d9c>:2: FutureWarning: The default value of regex will change from True to False in a future version.\n",
      "  df1['Body'] = df1['Body'].str.replace(r'^.+@[^\\.].*\\.[a-z]{2,}$','emailaddress')\n",
      "<ipython-input-41-172483833d9c>:5: FutureWarning: The default value of regex will change from True to False in a future version.\n",
      "  df1['Body'] = df1['Body'].str.replace(r'^http\\://[a-zA-Z0-9\\-\\.]+\\.[a-zA-Z]{2,3}(/\\S*)?$','webaddress')\n",
      "<ipython-input-41-172483833d9c>:8: FutureWarning: The default value of regex will change from True to False in a future version.\n",
      "  df1['Body'] = df1['Body'].str.replace(r'£|\\$', 'dollers')\n",
      "<ipython-input-41-172483833d9c>:11: FutureWarning: The default value of regex will change from True to False in a future version.\n",
      "  df1['Body'] = df1['Body'].str.replace(r'^\\(?[\\d]{3}\\)?[\\s-]?[\\d]{3}[\\s-]?[\\d]{4}$','phonenumber')\n",
      "<ipython-input-41-172483833d9c>:14: FutureWarning: The default value of regex will change from True to False in a future version.\n",
      "  df1['Body'] = df1['Body'].str.replace(r'\\d+(\\.\\d+)?', 'numbr')\n",
      "<ipython-input-41-172483833d9c>:16: FutureWarning: The default value of regex will change from True to False in a future version.\n",
      "  df1['Body'] = df1['Body'].str.replace(r'[^\\w\\d\\s]', ' ')\n",
      "<ipython-input-41-172483833d9c>:19: FutureWarning: The default value of regex will change from True to False in a future version.\n",
      "  df1['Body'] = df1['Body'].str.replace(r'\\s+', ' ')\n",
      "<ipython-input-41-172483833d9c>:22: FutureWarning: The default value of regex will change from True to False in a future version.\n",
      "  df1['Body'] = df1['Body'].str.replace(r'^\\s+|\\s+?$', '')\n"
     ]
    }
   ],
   "source": [
    "# Replace email addresses with 'email'\n",
    "df1['Body'] = df1['Body'].str.replace(r'^.+@[^\\.].*\\.[a-z]{2,}$','emailaddress')\n",
    "\n",
    "# Replace URLs with 'webaddress'\n",
    "df1['Body'] = df1['Body'].str.replace(r'^http\\://[a-zA-Z0-9\\-\\.]+\\.[a-zA-Z]{2,3}(/\\S*)?$','webaddress')\n",
    "\n",
    "# Replace currency symbols with 'moneysymb' (£ can by typed with ALT key + 156)\n",
    "df1['Body'] = df1['Body'].str.replace(r'£|\\$', 'dollers')\n",
    "    \n",
    "# Replace 10 digit phone numbers (formats include paranthesis, spaces, no spaces, dashes) with 'phonenumber'\n",
    "df1['Body'] = df1['Body'].str.replace(r'^\\(?[\\d]{3}\\)?[\\s-]?[\\d]{3}[\\s-]?[\\d]{4}$','phonenumber')\n",
    "   \n",
    "# Replace numeric characters with 'numbr'\n",
    "df1['Body'] = df1['Body'].str.replace(r'\\d+(\\.\\d+)?', 'numbr')\n",
    "# Remove punctuation\n",
    "df1['Body'] = df1['Body'].str.replace(r'[^\\w\\d\\s]', ' ')\n",
    "\n",
    "# Replace whitespace between terms with a single space\n",
    "df1['Body'] = df1['Body'].str.replace(r'\\s+', ' ')\n",
    "\n",
    "# Remove leading and trailing whitespace\n",
    "df1['Body'] = df1['Body'].str.replace(r'^\\s+|\\s+?$', '')\n",
    "\n"
   ]
  },
  {
   "cell_type": "code",
   "execution_count": 42,
   "id": "32584394",
   "metadata": {},
   "outputs": [],
   "source": [
    "#Removing the stopwords\n",
    "import string\n",
    "import nltk\n",
    "from nltk.corpus import stopwords\n",
    "\n",
    "stop_words1 = set(stopwords.words('english'))\n",
    "\n",
    "df1['Body'] = df1['Body'].apply(lambda x: \" \".join(term for term in str(x).split() if term not in stop_words1))"
   ]
  },
  {
   "cell_type": "code",
   "execution_count": 43,
   "id": "fa5ecee8",
   "metadata": {},
   "outputs": [],
   "source": [
    "x_test_1 = df1['Body']"
   ]
  },
  {
   "cell_type": "code",
   "execution_count": 21,
   "id": "ab1cf48f",
   "metadata": {},
   "outputs": [
    {
     "data": {
      "text/plain": [
       "0       Thank I sent hold time I cancel decide need Fr...\n",
       "1       Over past numbr months System Planning partner...\n",
       "2       ______________________________________________...\n",
       "3       ______________________________________________...\n",
       "4            One I confirm date time Julie I update holds\n",
       "                              ...                        \n",
       "4893    Haha worries I made tweaks around learning wor...\n",
       "4894                                              Out PTO\n",
       "4895    This makes sense From Diane M Aboo email yyyy ...\n",
       "4896    Some ideas use cases numbr numbr meeting discu...\n",
       "4897    Perfect Thank From Mohdhafi Agdern email yyyy ...\n",
       "Name: Body, Length: 4898, dtype: object"
      ]
     },
     "execution_count": 21,
     "metadata": {},
     "output_type": "execute_result"
    }
   ],
   "source": [
    "x_test_1"
   ]
  },
  {
   "cell_type": "code",
   "execution_count": 44,
   "id": "475f3a25",
   "metadata": {},
   "outputs": [],
   "source": [
    "y = tf_vec.transform(x_test_1)"
   ]
  },
  {
   "cell_type": "code",
   "execution_count": 45,
   "id": "65e33349",
   "metadata": {
    "scrolled": true
   },
   "outputs": [],
   "source": [
    "y_pred = SVM.predict(y)"
   ]
  },
  {
   "cell_type": "code",
   "execution_count": 46,
   "id": "da21439b",
   "metadata": {},
   "outputs": [
    {
     "data": {
      "text/plain": [
       "array([0, 0, 0, ..., 0, 0, 0], dtype=int64)"
      ]
     },
     "execution_count": 46,
     "metadata": {},
     "output_type": "execute_result"
    }
   ],
   "source": [
    "y_pred"
   ]
  },
  {
   "cell_type": "code",
   "execution_count": 47,
   "id": "f48efd7b",
   "metadata": {},
   "outputs": [],
   "source": [
    "df1 = pd.DataFrame()"
   ]
  },
  {
   "cell_type": "code",
   "execution_count": null,
   "id": "9a37b71e",
   "metadata": {},
   "outputs": [],
   "source": []
  },
  {
   "cell_type": "code",
   "execution_count": 48,
   "id": "f87c589f",
   "metadata": {},
   "outputs": [],
   "source": [
    "df1['output'] = y_pred"
   ]
  },
  {
   "cell_type": "code",
   "execution_count": 51,
   "id": "b6d1dc13",
   "metadata": {},
   "outputs": [],
   "source": [
    "df1.to_csv(r'output_file.csv')"
   ]
  }
 ],
 "metadata": {
  "kernelspec": {
   "display_name": "Python 3",
   "language": "python",
   "name": "python3"
  },
  "language_info": {
   "codemirror_mode": {
    "name": "ipython",
    "version": 3
   },
   "file_extension": ".py",
   "mimetype": "text/x-python",
   "name": "python",
   "nbconvert_exporter": "python",
   "pygments_lexer": "ipython3",
   "version": "3.8.8"
  }
 },
 "nbformat": 4,
 "nbformat_minor": 5
}
